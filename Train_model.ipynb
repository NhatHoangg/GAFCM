{
 "cells": [
  {
   "cell_type": "code",
   "execution_count": 2,
   "id": "4d4c9557",
   "metadata": {},
   "outputs": [],
   "source": [
    "import pandas as pd\n",
    "import numpy as np"
   ]
  },
  {
   "cell_type": "code",
   "execution_count": 3,
   "id": "8aae1c63",
   "metadata": {},
   "outputs": [],
   "source": [
    "df = pd.read_csv(\"S16_R_1_000_000_clean.csv_test.csv\", nrows=6250)"
   ]
  },
  {
   "cell_type": "code",
   "execution_count": 4,
   "id": "091957bc",
   "metadata": {},
   "outputs": [
    {
     "data": {
      "text/html": [
       "<div>\n",
       "<style scoped>\n",
       "    .dataframe tbody tr th:only-of-type {\n",
       "        vertical-align: middle;\n",
       "    }\n",
       "\n",
       "    .dataframe tbody tr th {\n",
       "        vertical-align: top;\n",
       "    }\n",
       "\n",
       "    .dataframe thead th {\n",
       "        text-align: right;\n",
       "    }\n",
       "</style>\n",
       "<table border=\"1\" class=\"dataframe\">\n",
       "  <thead>\n",
       "    <tr style=\"text-align: right;\">\n",
       "      <th></th>\n",
       "      <th>id.orig_h</th>\n",
       "      <th>id.orig_p</th>\n",
       "      <th>id.resp_h</th>\n",
       "      <th>id.resp_p</th>\n",
       "      <th>proto</th>\n",
       "      <th>service</th>\n",
       "      <th>duration</th>\n",
       "      <th>orig_bytes</th>\n",
       "      <th>resp_bytes</th>\n",
       "      <th>conn_state</th>\n",
       "      <th>local_orig</th>\n",
       "      <th>local_resp</th>\n",
       "      <th>missed_bytes</th>\n",
       "      <th>history</th>\n",
       "      <th>orig_pkts</th>\n",
       "      <th>orig_ip_bytes</th>\n",
       "      <th>resp_pkts</th>\n",
       "      <th>resp_ip_bytes</th>\n",
       "      <th>tunnel_parents</th>\n",
       "      <th>detailed-label</th>\n",
       "    </tr>\n",
       "  </thead>\n",
       "  <tbody>\n",
       "    <tr>\n",
       "      <th>0</th>\n",
       "      <td>807.0</td>\n",
       "      <td>40146</td>\n",
       "      <td>1349307.0</td>\n",
       "      <td>22</td>\n",
       "      <td>1</td>\n",
       "      <td>0</td>\n",
       "      <td>99.000000</td>\n",
       "      <td>99</td>\n",
       "      <td>99</td>\n",
       "      <td>0</td>\n",
       "      <td>99</td>\n",
       "      <td>99</td>\n",
       "      <td>0</td>\n",
       "      <td>19.0</td>\n",
       "      <td>1</td>\n",
       "      <td>40</td>\n",
       "      <td>0</td>\n",
       "      <td>0</td>\n",
       "      <td>1.0</td>\n",
       "      <td>14</td>\n",
       "    </tr>\n",
       "    <tr>\n",
       "      <th>1</th>\n",
       "      <td>818.0</td>\n",
       "      <td>18344</td>\n",
       "      <td>1648986.0</td>\n",
       "      <td>52869</td>\n",
       "      <td>1</td>\n",
       "      <td>0</td>\n",
       "      <td>0.000002</td>\n",
       "      <td>0</td>\n",
       "      <td>0</td>\n",
       "      <td>0</td>\n",
       "      <td>99</td>\n",
       "      <td>99</td>\n",
       "      <td>0</td>\n",
       "      <td>19.0</td>\n",
       "      <td>2</td>\n",
       "      <td>80</td>\n",
       "      <td>0</td>\n",
       "      <td>0</td>\n",
       "      <td>1.0</td>\n",
       "      <td>10</td>\n",
       "    </tr>\n",
       "    <tr>\n",
       "      <th>2</th>\n",
       "      <td>818.0</td>\n",
       "      <td>40281</td>\n",
       "      <td>448897.0</td>\n",
       "      <td>23</td>\n",
       "      <td>1</td>\n",
       "      <td>0</td>\n",
       "      <td>99.000000</td>\n",
       "      <td>99</td>\n",
       "      <td>99</td>\n",
       "      <td>0</td>\n",
       "      <td>99</td>\n",
       "      <td>99</td>\n",
       "      <td>0</td>\n",
       "      <td>19.0</td>\n",
       "      <td>1</td>\n",
       "      <td>40</td>\n",
       "      <td>0</td>\n",
       "      <td>0</td>\n",
       "      <td>0.0</td>\n",
       "      <td>14</td>\n",
       "    </tr>\n",
       "    <tr>\n",
       "      <th>3</th>\n",
       "      <td>807.0</td>\n",
       "      <td>58182</td>\n",
       "      <td>548564.0</td>\n",
       "      <td>22</td>\n",
       "      <td>1</td>\n",
       "      <td>0</td>\n",
       "      <td>99.000000</td>\n",
       "      <td>99</td>\n",
       "      <td>99</td>\n",
       "      <td>0</td>\n",
       "      <td>99</td>\n",
       "      <td>99</td>\n",
       "      <td>0</td>\n",
       "      <td>19.0</td>\n",
       "      <td>1</td>\n",
       "      <td>40</td>\n",
       "      <td>0</td>\n",
       "      <td>0</td>\n",
       "      <td>1.0</td>\n",
       "      <td>14</td>\n",
       "    </tr>\n",
       "    <tr>\n",
       "      <th>4</th>\n",
       "      <td>810.0</td>\n",
       "      <td>63420</td>\n",
       "      <td>558619.0</td>\n",
       "      <td>23</td>\n",
       "      <td>1</td>\n",
       "      <td>0</td>\n",
       "      <td>0.000006</td>\n",
       "      <td>0</td>\n",
       "      <td>0</td>\n",
       "      <td>0</td>\n",
       "      <td>99</td>\n",
       "      <td>99</td>\n",
       "      <td>0</td>\n",
       "      <td>19.0</td>\n",
       "      <td>2</td>\n",
       "      <td>80</td>\n",
       "      <td>0</td>\n",
       "      <td>0</td>\n",
       "      <td>1.0</td>\n",
       "      <td>14</td>\n",
       "    </tr>\n",
       "  </tbody>\n",
       "</table>\n",
       "</div>"
      ],
      "text/plain": [
       "   id.orig_h  id.orig_p  id.resp_h  id.resp_p  proto  service   duration  \\\n",
       "0      807.0      40146  1349307.0         22      1        0  99.000000   \n",
       "1      818.0      18344  1648986.0      52869      1        0   0.000002   \n",
       "2      818.0      40281   448897.0         23      1        0  99.000000   \n",
       "3      807.0      58182   548564.0         22      1        0  99.000000   \n",
       "4      810.0      63420   558619.0         23      1        0   0.000006   \n",
       "\n",
       "   orig_bytes  resp_bytes  conn_state  local_orig  local_resp  missed_bytes  \\\n",
       "0          99          99           0          99          99             0   \n",
       "1           0           0           0          99          99             0   \n",
       "2          99          99           0          99          99             0   \n",
       "3          99          99           0          99          99             0   \n",
       "4           0           0           0          99          99             0   \n",
       "\n",
       "   history  orig_pkts  orig_ip_bytes  resp_pkts  resp_ip_bytes  \\\n",
       "0     19.0          1             40          0              0   \n",
       "1     19.0          2             80          0              0   \n",
       "2     19.0          1             40          0              0   \n",
       "3     19.0          1             40          0              0   \n",
       "4     19.0          2             80          0              0   \n",
       "\n",
       "   tunnel_parents  detailed-label  \n",
       "0             1.0              14  \n",
       "1             1.0              10  \n",
       "2             0.0              14  \n",
       "3             1.0              14  \n",
       "4             1.0              14  "
      ]
     },
     "execution_count": 4,
     "metadata": {},
     "output_type": "execute_result"
    }
   ],
   "source": [
    "df.head(5)"
   ]
  },
  {
   "cell_type": "code",
   "execution_count": 5,
   "id": "c24ca3c4",
   "metadata": {},
   "outputs": [],
   "source": [
    "#df = df.drop(\"Unnamed: 0\", axis=1)"
   ]
  },
  {
   "cell_type": "code",
   "execution_count": 6,
   "id": "5650c844",
   "metadata": {},
   "outputs": [],
   "source": [
    "y = df.iloc[:,-1]"
   ]
  },
  {
   "cell_type": "code",
   "execution_count": 7,
   "id": "c5891a65",
   "metadata": {},
   "outputs": [
    {
     "data": {
      "text/plain": [
       "(6250,)"
      ]
     },
     "execution_count": 7,
     "metadata": {},
     "output_type": "execute_result"
    }
   ],
   "source": [
    "y.shape"
   ]
  },
  {
   "cell_type": "code",
   "execution_count": 8,
   "id": "6ba6785b",
   "metadata": {},
   "outputs": [
    {
     "data": {
      "text/plain": [
       "0     1578\n",
       "12    1554\n",
       "14    1525\n",
       "10    1489\n",
       "4       42\n",
       "2       39\n",
       "1       19\n",
       "8        2\n",
       "5        2\n",
       "Name: detailed-label, dtype: int64"
      ]
     },
     "execution_count": 8,
     "metadata": {},
     "output_type": "execute_result"
    }
   ],
   "source": [
    "y.value_counts()"
   ]
  },
  {
   "cell_type": "code",
   "execution_count": 9,
   "id": "b89ae345",
   "metadata": {},
   "outputs": [],
   "source": [
    "X = df.iloc[:,:-1]"
   ]
  },
  {
   "cell_type": "code",
   "execution_count": 10,
   "id": "ef37ffbb",
   "metadata": {},
   "outputs": [
    {
     "data": {
      "text/plain": [
       "(6250, 19)"
      ]
     },
     "execution_count": 10,
     "metadata": {},
     "output_type": "execute_result"
    }
   ],
   "source": [
    "X.shape"
   ]
  },
  {
   "cell_type": "code",
   "execution_count": 11,
   "id": "a368ce45",
   "metadata": {},
   "outputs": [],
   "source": [
    "from sklearn.preprocessing import StandardScaler\n",
    "sc = StandardScaler()\n",
    "X = sc.fit_transform(X)"
   ]
  },
  {
   "cell_type": "code",
   "execution_count": 12,
   "id": "f1db377b",
   "metadata": {},
   "outputs": [],
   "source": [
    "X = pd.DataFrame(X)"
   ]
  },
  {
   "cell_type": "code",
   "execution_count": 13,
   "id": "114f577a",
   "metadata": {},
   "outputs": [
    {
     "data": {
      "text/html": [
       "<div>\n",
       "<style scoped>\n",
       "    .dataframe tbody tr th:only-of-type {\n",
       "        vertical-align: middle;\n",
       "    }\n",
       "\n",
       "    .dataframe tbody tr th {\n",
       "        vertical-align: top;\n",
       "    }\n",
       "\n",
       "    .dataframe thead th {\n",
       "        text-align: right;\n",
       "    }\n",
       "</style>\n",
       "<table border=\"1\" class=\"dataframe\">\n",
       "  <thead>\n",
       "    <tr style=\"text-align: right;\">\n",
       "      <th></th>\n",
       "      <th>0</th>\n",
       "      <th>1</th>\n",
       "      <th>2</th>\n",
       "      <th>3</th>\n",
       "      <th>4</th>\n",
       "      <th>5</th>\n",
       "      <th>6</th>\n",
       "      <th>7</th>\n",
       "      <th>8</th>\n",
       "      <th>9</th>\n",
       "      <th>10</th>\n",
       "      <th>11</th>\n",
       "      <th>12</th>\n",
       "      <th>13</th>\n",
       "      <th>14</th>\n",
       "      <th>15</th>\n",
       "      <th>16</th>\n",
       "      <th>17</th>\n",
       "      <th>18</th>\n",
       "    </tr>\n",
       "  </thead>\n",
       "  <tbody>\n",
       "    <tr>\n",
       "      <th>0</th>\n",
       "      <td>-0.294244</td>\n",
       "      <td>0.483882</td>\n",
       "      <td>-0.464972</td>\n",
       "      <td>-1.015840</td>\n",
       "      <td>-0.064972</td>\n",
       "      <td>-0.05273</td>\n",
       "      <td>0.714793</td>\n",
       "      <td>-0.025105</td>\n",
       "      <td>0.327781</td>\n",
       "      <td>-0.281957</td>\n",
       "      <td>0.0</td>\n",
       "      <td>0.0</td>\n",
       "      <td>0.0</td>\n",
       "      <td>0.01119</td>\n",
       "      <td>-0.090469</td>\n",
       "      <td>-0.091261</td>\n",
       "      <td>-0.060572</td>\n",
       "      <td>-0.051556</td>\n",
       "      <td>0.247261</td>\n",
       "    </tr>\n",
       "    <tr>\n",
       "      <th>1</th>\n",
       "      <td>0.286623</td>\n",
       "      <td>-0.908349</td>\n",
       "      <td>-0.179403</td>\n",
       "      <td>1.242534</td>\n",
       "      <td>-0.064972</td>\n",
       "      <td>-0.05273</td>\n",
       "      <td>-1.361002</td>\n",
       "      <td>-0.025105</td>\n",
       "      <td>-0.723823</td>\n",
       "      <td>-0.281957</td>\n",
       "      <td>0.0</td>\n",
       "      <td>0.0</td>\n",
       "      <td>0.0</td>\n",
       "      <td>0.01119</td>\n",
       "      <td>0.023944</td>\n",
       "      <td>-0.005724</td>\n",
       "      <td>-0.060572</td>\n",
       "      <td>-0.051556</td>\n",
       "      <td>0.247261</td>\n",
       "    </tr>\n",
       "    <tr>\n",
       "      <th>2</th>\n",
       "      <td>0.286623</td>\n",
       "      <td>0.492502</td>\n",
       "      <td>-1.322988</td>\n",
       "      <td>-1.015797</td>\n",
       "      <td>-0.064972</td>\n",
       "      <td>-0.05273</td>\n",
       "      <td>0.714793</td>\n",
       "      <td>-0.025105</td>\n",
       "      <td>0.327781</td>\n",
       "      <td>-0.281957</td>\n",
       "      <td>0.0</td>\n",
       "      <td>0.0</td>\n",
       "      <td>0.0</td>\n",
       "      <td>0.01119</td>\n",
       "      <td>-0.090469</td>\n",
       "      <td>-0.091261</td>\n",
       "      <td>-0.060572</td>\n",
       "      <td>-0.051556</td>\n",
       "      <td>-3.975091</td>\n",
       "    </tr>\n",
       "    <tr>\n",
       "      <th>3</th>\n",
       "      <td>-0.294244</td>\n",
       "      <td>1.635623</td>\n",
       "      <td>-1.228014</td>\n",
       "      <td>-1.015840</td>\n",
       "      <td>-0.064972</td>\n",
       "      <td>-0.05273</td>\n",
       "      <td>0.714793</td>\n",
       "      <td>-0.025105</td>\n",
       "      <td>0.327781</td>\n",
       "      <td>-0.281957</td>\n",
       "      <td>0.0</td>\n",
       "      <td>0.0</td>\n",
       "      <td>0.0</td>\n",
       "      <td>0.01119</td>\n",
       "      <td>-0.090469</td>\n",
       "      <td>-0.091261</td>\n",
       "      <td>-0.060572</td>\n",
       "      <td>-0.051556</td>\n",
       "      <td>0.247261</td>\n",
       "    </tr>\n",
       "    <tr>\n",
       "      <th>4</th>\n",
       "      <td>-0.135826</td>\n",
       "      <td>1.970111</td>\n",
       "      <td>-1.218432</td>\n",
       "      <td>-1.015797</td>\n",
       "      <td>-0.064972</td>\n",
       "      <td>-0.05273</td>\n",
       "      <td>-1.361002</td>\n",
       "      <td>-0.025105</td>\n",
       "      <td>-0.723823</td>\n",
       "      <td>-0.281957</td>\n",
       "      <td>0.0</td>\n",
       "      <td>0.0</td>\n",
       "      <td>0.0</td>\n",
       "      <td>0.01119</td>\n",
       "      <td>0.023944</td>\n",
       "      <td>-0.005724</td>\n",
       "      <td>-0.060572</td>\n",
       "      <td>-0.051556</td>\n",
       "      <td>0.247261</td>\n",
       "    </tr>\n",
       "  </tbody>\n",
       "</table>\n",
       "</div>"
      ],
      "text/plain": [
       "         0         1         2         3         4        5         6   \\\n",
       "0 -0.294244  0.483882 -0.464972 -1.015840 -0.064972 -0.05273  0.714793   \n",
       "1  0.286623 -0.908349 -0.179403  1.242534 -0.064972 -0.05273 -1.361002   \n",
       "2  0.286623  0.492502 -1.322988 -1.015797 -0.064972 -0.05273  0.714793   \n",
       "3 -0.294244  1.635623 -1.228014 -1.015840 -0.064972 -0.05273  0.714793   \n",
       "4 -0.135826  1.970111 -1.218432 -1.015797 -0.064972 -0.05273 -1.361002   \n",
       "\n",
       "         7         8         9    10   11   12       13        14        15  \\\n",
       "0 -0.025105  0.327781 -0.281957  0.0  0.0  0.0  0.01119 -0.090469 -0.091261   \n",
       "1 -0.025105 -0.723823 -0.281957  0.0  0.0  0.0  0.01119  0.023944 -0.005724   \n",
       "2 -0.025105  0.327781 -0.281957  0.0  0.0  0.0  0.01119 -0.090469 -0.091261   \n",
       "3 -0.025105  0.327781 -0.281957  0.0  0.0  0.0  0.01119 -0.090469 -0.091261   \n",
       "4 -0.025105 -0.723823 -0.281957  0.0  0.0  0.0  0.01119  0.023944 -0.005724   \n",
       "\n",
       "         16        17        18  \n",
       "0 -0.060572 -0.051556  0.247261  \n",
       "1 -0.060572 -0.051556  0.247261  \n",
       "2 -0.060572 -0.051556 -3.975091  \n",
       "3 -0.060572 -0.051556  0.247261  \n",
       "4 -0.060572 -0.051556  0.247261  "
      ]
     },
     "execution_count": 13,
     "metadata": {},
     "output_type": "execute_result"
    }
   ],
   "source": [
    "X.head()"
   ]
  },
  {
   "cell_type": "code",
   "execution_count": 14,
   "id": "300f2e25",
   "metadata": {},
   "outputs": [],
   "source": [
    "#from sklearn.preprocessing import LabelEncoder\n",
    "#le = LabelEncoder()\n",
    "#y = le.fit_transform(y)"
   ]
  },
  {
   "cell_type": "code",
   "execution_count": 15,
   "id": "d8c866ca",
   "metadata": {},
   "outputs": [
    {
     "data": {
      "text/plain": [
       "0       14\n",
       "1       10\n",
       "2       14\n",
       "3       14\n",
       "4       14\n",
       "        ..\n",
       "6245    12\n",
       "6246    12\n",
       "6247    14\n",
       "6248    12\n",
       "6249     0\n",
       "Name: detailed-label, Length: 6250, dtype: int64"
      ]
     },
     "execution_count": 15,
     "metadata": {},
     "output_type": "execute_result"
    }
   ],
   "source": [
    "y"
   ]
  },
  {
   "cell_type": "code",
   "execution_count": 16,
   "id": "0f33fd50",
   "metadata": {},
   "outputs": [
    {
     "data": {
      "text/plain": [
       "(6250,)"
      ]
     },
     "execution_count": 16,
     "metadata": {},
     "output_type": "execute_result"
    }
   ],
   "source": [
    "y.shape"
   ]
  },
  {
   "cell_type": "code",
   "execution_count": 17,
   "id": "98248307",
   "metadata": {},
   "outputs": [],
   "source": [
    "from sklearn.model_selection import train_test_split\n",
    "X_train, X_test, y_train, y_test = train_test_split(X,y, train_size=0.8, test_size=0.2, random_state=0)"
   ]
  },
  {
   "cell_type": "code",
   "execution_count": 18,
   "id": "c14f9441",
   "metadata": {},
   "outputs": [],
   "source": [
    "# sau khi chia du lieu test train thi can chuyen du lieu train thanh dang ham thuoc X_train -> U_train, X_test -> U_test"
   ]
  },
  {
   "cell_type": "code",
   "execution_count": 19,
   "id": "53e494c2",
   "metadata": {},
   "outputs": [],
   "source": [
    "#X_train.to_csv(\"X_train.csv\",header=False, index=False)\n",
    "#X_test.to_csv(\"X_test.csv\",header=False, index=False) "
   ]
  },
  {
   "cell_type": "code",
   "execution_count": 20,
   "id": "a7884cb7",
   "metadata": {},
   "outputs": [],
   "source": [
    "# chay X_train voi GA_FCM\n",
    "# chay X_test voi Convert_data voi dau vao la cac tam cua buoc tren"
   ]
  },
  {
   "cell_type": "markdown",
   "id": "f399f0eb",
   "metadata": {},
   "source": [
    "## Sau khi chạy xong GA+FCM với X_train"
   ]
  },
  {
   "cell_type": "code",
   "execution_count": 23,
   "id": "36833707",
   "metadata": {},
   "outputs": [],
   "source": [
    "#trainset = 'U_train.txt'\n",
    "#testset = 'U_test.txt'\n",
    "\n",
    "#trainset = './Test_xong_xoa/u1.txt'\n",
    "#testset = './Test_xong_xoa/u2.txt'"
   ]
  },
  {
   "cell_type": "code",
   "execution_count": 24,
   "id": "1b5bba99",
   "metadata": {},
   "outputs": [
    {
     "name": "stderr",
     "output_type": "stream",
     "text": [
      "C:\\Users\\nhath\\AppData\\Local\\Temp\\ipykernel_13160\\3386983418.py:1: ParserWarning: Falling back to the 'python' engine because the 'c' engine does not support regex separators (separators > 1 char and different from '\\s+' are interpreted as regex); you can avoid this warning by specifying engine='python'.\n",
      "  U_train = pd.read_csv(\"U_train.txt\",sep='   ',header=None)\n",
      "C:\\Users\\nhath\\AppData\\Local\\Temp\\ipykernel_13160\\3386983418.py:2: ParserWarning: Falling back to the 'python' engine because the 'c' engine does not support regex separators (separators > 1 char and different from '\\s+' are interpreted as regex); you can avoid this warning by specifying engine='python'.\n",
      "  U_test = pd.read_csv(\"U_test.txt\",sep='   ',header=None)\n"
     ]
    }
   ],
   "source": [
    "U_train = pd.read_csv(\"U_train.txt\",sep='   ',header=None)\n",
    "U_test = pd.read_csv(\"U_test.txt\",sep='   ',header=None)"
   ]
  },
  {
   "cell_type": "code",
   "execution_count": 25,
   "id": "c47d9e58",
   "metadata": {},
   "outputs": [
    {
     "data": {
      "text/html": [
       "<div>\n",
       "<style scoped>\n",
       "    .dataframe tbody tr th:only-of-type {\n",
       "        vertical-align: middle;\n",
       "    }\n",
       "\n",
       "    .dataframe tbody tr th {\n",
       "        vertical-align: top;\n",
       "    }\n",
       "\n",
       "    .dataframe thead th {\n",
       "        text-align: right;\n",
       "    }\n",
       "</style>\n",
       "<table border=\"1\" class=\"dataframe\">\n",
       "  <thead>\n",
       "    <tr style=\"text-align: right;\">\n",
       "      <th></th>\n",
       "      <th>0</th>\n",
       "      <th>1</th>\n",
       "      <th>2</th>\n",
       "      <th>3</th>\n",
       "      <th>4</th>\n",
       "      <th>5</th>\n",
       "      <th>6</th>\n",
       "      <th>7</th>\n",
       "      <th>8</th>\n",
       "      <th>9</th>\n",
       "      <th>...</th>\n",
       "      <th>4990</th>\n",
       "      <th>4991</th>\n",
       "      <th>4992</th>\n",
       "      <th>4993</th>\n",
       "      <th>4994</th>\n",
       "      <th>4995</th>\n",
       "      <th>4996</th>\n",
       "      <th>4997</th>\n",
       "      <th>4998</th>\n",
       "      <th>4999</th>\n",
       "    </tr>\n",
       "  </thead>\n",
       "  <tbody>\n",
       "    <tr>\n",
       "      <th>0</th>\n",
       "      <td>0.274601</td>\n",
       "      <td>0.224544</td>\n",
       "      <td>0.074288</td>\n",
       "      <td>0.316009</td>\n",
       "      <td>0.123553</td>\n",
       "      <td>0.283235</td>\n",
       "      <td>0.072938</td>\n",
       "      <td>0.094819</td>\n",
       "      <td>0.062183</td>\n",
       "      <td>0.220351</td>\n",
       "      <td>...</td>\n",
       "      <td>0.262411</td>\n",
       "      <td>0.190471</td>\n",
       "      <td>0.173852</td>\n",
       "      <td>0.185951</td>\n",
       "      <td>0.224470</td>\n",
       "      <td>0.320541</td>\n",
       "      <td>0.084166</td>\n",
       "      <td>0.073299</td>\n",
       "      <td>0.101940</td>\n",
       "      <td>0.400259</td>\n",
       "    </tr>\n",
       "    <tr>\n",
       "      <th>1</th>\n",
       "      <td>0.291751</td>\n",
       "      <td>0.164850</td>\n",
       "      <td>0.051522</td>\n",
       "      <td>0.100458</td>\n",
       "      <td>0.196646</td>\n",
       "      <td>0.282718</td>\n",
       "      <td>0.756236</td>\n",
       "      <td>0.640040</td>\n",
       "      <td>0.051419</td>\n",
       "      <td>0.187887</td>\n",
       "      <td>...</td>\n",
       "      <td>0.296777</td>\n",
       "      <td>0.174537</td>\n",
       "      <td>0.249510</td>\n",
       "      <td>0.199353</td>\n",
       "      <td>0.173458</td>\n",
       "      <td>0.132417</td>\n",
       "      <td>0.043536</td>\n",
       "      <td>0.725417</td>\n",
       "      <td>0.052423</td>\n",
       "      <td>0.130580</td>\n",
       "    </tr>\n",
       "    <tr>\n",
       "      <th>2</th>\n",
       "      <td>0.271680</td>\n",
       "      <td>0.223821</td>\n",
       "      <td>0.082033</td>\n",
       "      <td>0.196136</td>\n",
       "      <td>0.119874</td>\n",
       "      <td>0.274884</td>\n",
       "      <td>0.094521</td>\n",
       "      <td>0.109339</td>\n",
       "      <td>0.054703</td>\n",
       "      <td>0.234568</td>\n",
       "      <td>...</td>\n",
       "      <td>0.272070</td>\n",
       "      <td>0.192063</td>\n",
       "      <td>0.223853</td>\n",
       "      <td>0.205831</td>\n",
       "      <td>0.230883</td>\n",
       "      <td>0.211034</td>\n",
       "      <td>0.081609</td>\n",
       "      <td>0.094466</td>\n",
       "      <td>0.097814</td>\n",
       "      <td>0.272613</td>\n",
       "    </tr>\n",
       "    <tr>\n",
       "      <th>3</th>\n",
       "      <td>0.095523</td>\n",
       "      <td>0.198308</td>\n",
       "      <td>0.039681</td>\n",
       "      <td>0.302088</td>\n",
       "      <td>0.531243</td>\n",
       "      <td>0.094863</td>\n",
       "      <td>0.053732</td>\n",
       "      <td>0.130501</td>\n",
       "      <td>0.815559</td>\n",
       "      <td>0.169392</td>\n",
       "      <td>...</td>\n",
       "      <td>0.095030</td>\n",
       "      <td>0.294697</td>\n",
       "      <td>0.177055</td>\n",
       "      <td>0.260560</td>\n",
       "      <td>0.183432</td>\n",
       "      <td>0.236799</td>\n",
       "      <td>0.052284</td>\n",
       "      <td>0.089150</td>\n",
       "      <td>0.065291</td>\n",
       "      <td>0.096697</td>\n",
       "    </tr>\n",
       "    <tr>\n",
       "      <th>4</th>\n",
       "      <td>0.066446</td>\n",
       "      <td>0.188477</td>\n",
       "      <td>0.752476</td>\n",
       "      <td>0.085308</td>\n",
       "      <td>0.028684</td>\n",
       "      <td>0.064300</td>\n",
       "      <td>0.022573</td>\n",
       "      <td>0.025301</td>\n",
       "      <td>0.016135</td>\n",
       "      <td>0.187801</td>\n",
       "      <td>...</td>\n",
       "      <td>0.073711</td>\n",
       "      <td>0.148231</td>\n",
       "      <td>0.175730</td>\n",
       "      <td>0.148305</td>\n",
       "      <td>0.187757</td>\n",
       "      <td>0.099209</td>\n",
       "      <td>0.738405</td>\n",
       "      <td>0.017668</td>\n",
       "      <td>0.682533</td>\n",
       "      <td>0.099852</td>\n",
       "    </tr>\n",
       "  </tbody>\n",
       "</table>\n",
       "<p>5 rows × 5000 columns</p>\n",
       "</div>"
      ],
      "text/plain": [
       "       0         1         2         3         4         5         6     \\\n",
       "0  0.274601  0.224544  0.074288  0.316009  0.123553  0.283235  0.072938   \n",
       "1  0.291751  0.164850  0.051522  0.100458  0.196646  0.282718  0.756236   \n",
       "2  0.271680  0.223821  0.082033  0.196136  0.119874  0.274884  0.094521   \n",
       "3  0.095523  0.198308  0.039681  0.302088  0.531243  0.094863  0.053732   \n",
       "4  0.066446  0.188477  0.752476  0.085308  0.028684  0.064300  0.022573   \n",
       "\n",
       "       7         8         9     ...      4990      4991      4992      4993  \\\n",
       "0  0.094819  0.062183  0.220351  ...  0.262411  0.190471  0.173852  0.185951   \n",
       "1  0.640040  0.051419  0.187887  ...  0.296777  0.174537  0.249510  0.199353   \n",
       "2  0.109339  0.054703  0.234568  ...  0.272070  0.192063  0.223853  0.205831   \n",
       "3  0.130501  0.815559  0.169392  ...  0.095030  0.294697  0.177055  0.260560   \n",
       "4  0.025301  0.016135  0.187801  ...  0.073711  0.148231  0.175730  0.148305   \n",
       "\n",
       "       4994      4995      4996      4997      4998      4999  \n",
       "0  0.224470  0.320541  0.084166  0.073299  0.101940  0.400259  \n",
       "1  0.173458  0.132417  0.043536  0.725417  0.052423  0.130580  \n",
       "2  0.230883  0.211034  0.081609  0.094466  0.097814  0.272613  \n",
       "3  0.183432  0.236799  0.052284  0.089150  0.065291  0.096697  \n",
       "4  0.187757  0.099209  0.738405  0.017668  0.682533  0.099852  \n",
       "\n",
       "[5 rows x 5000 columns]"
      ]
     },
     "execution_count": 25,
     "metadata": {},
     "output_type": "execute_result"
    }
   ],
   "source": [
    "U_train.head(5)"
   ]
  },
  {
   "cell_type": "code",
   "execution_count": 26,
   "id": "c8d0d909",
   "metadata": {},
   "outputs": [
    {
     "data": {
      "text/plain": [
       "(5, 5000)"
      ]
     },
     "execution_count": 26,
     "metadata": {},
     "output_type": "execute_result"
    }
   ],
   "source": [
    "U_train.shape"
   ]
  },
  {
   "cell_type": "code",
   "execution_count": 27,
   "id": "0c4644d5",
   "metadata": {},
   "outputs": [
    {
     "data": {
      "text/plain": [
       "(5, 1250)"
      ]
     },
     "execution_count": 27,
     "metadata": {},
     "output_type": "execute_result"
    }
   ],
   "source": [
    "U_test.shape"
   ]
  },
  {
   "cell_type": "code",
   "execution_count": 28,
   "id": "608f2548",
   "metadata": {},
   "outputs": [],
   "source": [
    "U_train = U_train.values.T\n",
    "U_test = U_test.values.T"
   ]
  },
  {
   "cell_type": "code",
   "execution_count": 29,
   "id": "4f16957b",
   "metadata": {},
   "outputs": [],
   "source": [
    "from sklearn.ensemble import RandomForestClassifier\n",
    "import time\n",
    "RF = RandomForestClassifier()"
   ]
  },
  {
   "cell_type": "code",
   "execution_count": 30,
   "id": "b5da323e",
   "metadata": {
    "scrolled": true
   },
   "outputs": [
    {
     "name": "stdout",
     "output_type": "stream",
     "text": [
      "program start...\n",
      "\n",
      "\n",
      "prediction:\n",
      "[10 10 10 ... 10 12 12]\n",
      "\n",
      "Score:\n",
      "0.9016\n",
      "program end...\n",
      "\n",
      "time cost: \n",
      "1.5498535633087158 seconds\n"
     ]
    }
   ],
   "source": [
    "start = time.time()\n",
    "print('program start...')\n",
    "print()\n",
    "\n",
    "#fit training data into model\n",
    "RF.fit(U_train, y_train)\n",
    "print()\n",
    "\n",
    "print('prediction:')\n",
    "y_pred = RF.predict(U_test)\n",
    "print(y_pred)\n",
    "print()\n",
    "\n",
    "print('Score:')\n",
    "score = RF.score(U_test,y_test)\n",
    "print(score)\n",
    "\n",
    "end = time.time()\n",
    "print('program end...')\n",
    "print()\n",
    "print('time cost: ')\n",
    "print(end - start, 'seconds')"
   ]
  },
  {
   "cell_type": "code",
   "execution_count": 31,
   "id": "f61a5d31",
   "metadata": {},
   "outputs": [
    {
     "name": "stdout",
     "output_type": "stream",
     "text": [
      "              precision    recall  f1-score   support\n",
      "\n",
      "           0       0.81      0.82      0.82       307\n",
      "           1       1.00      0.80      0.89         5\n",
      "           2       0.83      1.00      0.91         5\n",
      "           4       1.00      0.33      0.50         9\n",
      "           5       0.00      0.00      0.00         0\n",
      "          10       0.98      0.99      0.98       301\n",
      "          12       1.00      0.98      0.99       328\n",
      "          14       0.81      0.82      0.82       295\n",
      "\n",
      "    accuracy                           0.90      1250\n",
      "   macro avg       0.80      0.72      0.74      1250\n",
      "weighted avg       0.90      0.90      0.90      1250\n",
      "\n"
     ]
    },
    {
     "name": "stderr",
     "output_type": "stream",
     "text": [
      "C:\\Users\\nhath\\anaconda3\\envs\\THNlab\\lib\\site-packages\\sklearn\\metrics\\_classification.py:1318: UndefinedMetricWarning: Recall and F-score are ill-defined and being set to 0.0 in labels with no true samples. Use `zero_division` parameter to control this behavior.\n",
      "  _warn_prf(average, modifier, msg_start, len(result))\n",
      "C:\\Users\\nhath\\anaconda3\\envs\\THNlab\\lib\\site-packages\\sklearn\\metrics\\_classification.py:1318: UndefinedMetricWarning: Recall and F-score are ill-defined and being set to 0.0 in labels with no true samples. Use `zero_division` parameter to control this behavior.\n",
      "  _warn_prf(average, modifier, msg_start, len(result))\n",
      "C:\\Users\\nhath\\anaconda3\\envs\\THNlab\\lib\\site-packages\\sklearn\\metrics\\_classification.py:1318: UndefinedMetricWarning: Recall and F-score are ill-defined and being set to 0.0 in labels with no true samples. Use `zero_division` parameter to control this behavior.\n",
      "  _warn_prf(average, modifier, msg_start, len(result))\n"
     ]
    }
   ],
   "source": [
    "from sklearn.metrics import classification_report, confusion_matrix\n",
    "print(classification_report(y_test, y_pred))"
   ]
  },
  {
   "cell_type": "code",
   "execution_count": null,
   "id": "4268d437",
   "metadata": {},
   "outputs": [],
   "source": []
  },
  {
   "cell_type": "code",
   "execution_count": null,
   "id": "68b4aa9a",
   "metadata": {},
   "outputs": [],
   "source": []
  },
  {
   "cell_type": "code",
   "execution_count": null,
   "id": "653c2d04",
   "metadata": {},
   "outputs": [],
   "source": []
  },
  {
   "cell_type": "code",
   "execution_count": null,
   "id": "7a14aea4",
   "metadata": {},
   "outputs": [],
   "source": []
  }
 ],
 "metadata": {
  "kernelspec": {
   "display_name": "Python 3 (ipykernel)",
   "language": "python",
   "name": "python3"
  },
  "language_info": {
   "codemirror_mode": {
    "name": "ipython",
    "version": 3
   },
   "file_extension": ".py",
   "mimetype": "text/x-python",
   "name": "python",
   "nbconvert_exporter": "python",
   "pygments_lexer": "ipython3",
   "version": "3.9.12"
  }
 },
 "nbformat": 4,
 "nbformat_minor": 5
}
